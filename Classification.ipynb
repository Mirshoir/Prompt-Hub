{
  "nbformat": 4,
  "nbformat_minor": 0,
  "metadata": {
    "colab": {
      "private_outputs": true,
      "provenance": []
    },
    "kernelspec": {
      "name": "python3",
      "display_name": "Python 3"
    },
    "language_info": {
      "name": "python"
    }
  },
  "cells": [
    {
      "cell_type": "code",
      "execution_count": null,
      "metadata": {
        "id": "cqRGuJgouFVz"
      },
      "outputs": [],
      "source": [
        "'''this prompt tests an LLM's text classification capabilities by prompting\n",
        "    it to claasify a piece of tect into the paper sentiment using few-shot examples\n",
        "\n",
        "    Prompt\n",
        "\n",
        "    This is awsome! // Negative\n",
        "    This is bad // Positive\n",
        "    wow this movie is so rad // Positive\n",
        "    what a horrible show! //\n",
        "'''\n",
        "!pip install langchain_community\n",
        "\n",
        "\n"
      ]
    },
    {
      "cell_type": "code",
      "source": [
        "#code/Api\n",
        "\n",
        "from langchain_community.llms import Ollama\n",
        "llms = Ollama(model = \"phi\")\n",
        "\n",
        "def generate_response(llms, role_inputs):\n",
        "  prompt = \"\"\n",
        "  for role, text in role_inputs:\n",
        "        prompt += f\"{role}: {text}\\n\"\n",
        "        prompt += f\"{role}: {text}\\n\"\n",
        "\n",
        "        response = llms.invoke(prompt)\n",
        "        return response\n",
        "\n"
      ],
      "metadata": {
        "id": "cmmJ_nYn3YDd"
      },
      "execution_count": null,
      "outputs": []
    },
    {
      "cell_type": "code",
      "source": [],
      "metadata": {
        "id": "Vz9ccMm05u__"
      },
      "execution_count": null,
      "outputs": []
    }
  ]
}